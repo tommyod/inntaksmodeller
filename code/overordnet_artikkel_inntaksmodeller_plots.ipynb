{
 "cells": [
  {
   "cell_type": "markdown",
   "metadata": {},
   "source": [
    "# Examples and plots"
   ]
  },
  {
   "cell_type": "markdown",
   "metadata": {},
   "source": [
    "## Imports"
   ]
  },
  {
   "cell_type": "code",
   "execution_count": 1,
   "metadata": {},
   "outputs": [],
   "source": [
    "from utils import generate_problem_with_popularity\n",
    "from serial_dictatorship import solve_SD\n",
    "from optimization import PSSA\n",
    "import matplotlib.pyplot as plt\n",
    "import itertools\n",
    "import numpy as np\n",
    "import os\n",
    "import random\n",
    "from scipy import stats"
   ]
  },
  {
   "cell_type": "markdown",
   "metadata": {},
   "source": [
    "## Definitions and functions"
   ]
  },
  {
   "cell_type": "code",
   "execution_count": 2,
   "metadata": {},
   "outputs": [],
   "source": [
    "save_dir = r\"../figures\"\n",
    "\n",
    "if not os.path.exists(save_dir):\n",
    "    os.makedirs(save_dir)\n",
    "    \n",
    "FIGSIZE = (6, 3.5)\n",
    "COLORS = list(plt.rcParams['axes.prop_cycle'].by_key()['color'])"
   ]
  },
  {
   "cell_type": "code",
   "execution_count": 3,
   "metadata": {},
   "outputs": [],
   "source": [
    "def generate_itermediate(iterable):\n",
    "    \"\"\"Utility for step plotting.\"\"\"\n",
    "    iterable = sorted(iterable)\n",
    "    for a, b in zip(iterable, iterable[1:]):\n",
    "        yield a\n",
    "        x1, y1 = a\n",
    "        x2, y2 = b\n",
    "        yield x2, y1\n",
    "    yield b"
   ]
  },
  {
   "cell_type": "markdown",
   "metadata": {},
   "source": [
    "## Generate a random problem"
   ]
  },
  {
   "cell_type": "code",
   "execution_count": 4,
   "metadata": {},
   "outputs": [],
   "source": [
    "import collections     \n",
    "Student = collections.namedtuple(\"Student\", [\"id\", \"preferences\", \"grade_avg\"])\n",
    "School = collections.namedtuple(\"School\", [\"id\", \"capacity\"])"
   ]
  },
  {
   "cell_type": "code",
   "execution_count": 5,
   "metadata": {},
   "outputs": [],
   "source": [
    "num_students = 500\n",
    "num_schools = 5\n",
    "\n",
    "\n",
    "students, schools = generate_problem_with_popularity(num_students=num_students, \n",
    "                                                     num_schools=num_schools, \n",
    "                                                     capacity_ratio=1.0, \n",
    "                                                     num_choices=3, \n",
    "                                                     seed=1)\n",
    "\n",
    "def cost_match(student, school):\n",
    "    \"\"\"Determine integer cost of a student-school assignment.\"\"\"\n",
    "    # Grades can also be used (from student.grade_avg), but are not used below\n",
    "\n",
    "    # If the school is in the wishes\n",
    "    student_pref = student.preferences.get(school.id)\n",
    "    if student_pref is not None:\n",
    "        return student_pref \n",
    "    else:\n",
    "        return 4 # Cost of 4 for a school the student did not want\n",
    "\n",
    "def multi_cost_func(x, cost_matrix, grades, capacities):\n",
    "    \"\"\"Compute a multi-objective cost of an assigment.\"\"\"\n",
    "\n",
    "    # Cost of priorities\n",
    "    num_students, num_schools = x.shape\n",
    "    cost_priorities = np.sum(x * cost_matrix) / num_students\n",
    "\n",
    "    # Standard deviation of mean grades in each school\n",
    "    mean_grades = [grades[np.arange(num_students)[x[:, i]]].mean() for i in range(num_schools)]\n",
    "    std_grades = np.std(mean_grades, ddof=0)\n",
    "\n",
    "    return min(cost_priorities, 1.55), std_grades * 100\n"
   ]
  },
  {
   "cell_type": "markdown",
   "metadata": {},
   "source": [
    "## Solve the problem and plot solutions"
   ]
  },
  {
   "cell_type": "code",
   "execution_count": 6,
   "metadata": {},
   "outputs": [
    {
     "name": "stdout",
     "output_type": "stream",
     "text": [
      "Set up min-cost flow problem in 0.0039713382720947266 seconds.\n",
      "Solved min-cost flow problem in 0.0010616779327392578 seconds.\n",
      "Parsed min-cost flow solution in 0.0035102367401123047 seconds.\n",
      "Main search iteration 1.\n",
      "Main search iteration 2.\n",
      "Main search iteration 3.\n",
      "Main search iteration 4.\n",
      "Main search iteration 5.\n",
      "Main search iteration 6.\n",
      "Main search iteration 7.\n",
      "Main search iteration 8.\n",
      "Main search iteration 9.\n"
     ]
    },
    {
     "data": {
      "image/png": "[encoded data removed]",
      "text/plain": [
       "<Figure size 360x252 with 1 Axes>"
      ]
     },
     "metadata": {
      "needs_background": "light"
     },
     "output_type": "display_data"
    }
   ],
   "source": [
    "\n",
    "\n",
    "plt.figure(figsize=(5, 3.5))\n",
    "plt.title(f\"Sammenligning av modeller\", fontsize=14)\n",
    "\n",
    "lotteries = 50\n",
    "\n",
    "# ========================================\n",
    "# ========= LOTTERY SOLUTIONS ============\n",
    "# ========================================\n",
    "\n",
    "for seed in range(lotteries):\n",
    "    \n",
    "    random_generator = random.Random(seed)\n",
    "    # Copy the students, but assign random numbers instead of actual grades\n",
    "    students_lottery = [Student(s.id, s.preferences, random_generator.random()) for s in students]\n",
    "    \n",
    "    # Solve using serial dictatorship\n",
    "    solution_dict = solve_SD(students_lottery, schools, cost_match_func=cost_match, verbose=0)\n",
    "    \n",
    "    # Get NumPy arrays to evaluate the multi-objective function\n",
    "    x = PSSA.get_cost_matrix(students_lottery, schools, cost_match_func=cost_match)\n",
    "    cost_matrix = PSSA.get_x_matrix(students_lottery, schools, solution_dict)\n",
    "    grades = np.array([e.grade_avg for e in students_lottery])\n",
    "    capacities = np.array([s.capacity for s in schools])\n",
    "    \n",
    "    (x_plt, y_plt) = multi_cost_func(x, cost_matrix, grades, capacities)\n",
    "    \n",
    "    if seed == 0:\n",
    "        plt.scatter([x_plt], [y_plt], color=COLORS[1], label=f\"{lotteries} loddtrekninger\", zorder=10, s=15)\n",
    "    else:\n",
    "        plt.scatter([x_plt], [y_plt], color=COLORS[1], s=15)\n",
    "    \n",
    "    \n",
    "    original_grades = [e.grade_avg for e in students]\n",
    "    \n",
    "# ========================================\n",
    "# ========= GRADE BASED SOLUTIONS ========\n",
    "# ========================================\n",
    "\n",
    "# Solve using serial dictatorship\n",
    "solution_dict = solve_SD(students, schools, cost_match_func=cost_match, verbose=0)\n",
    "\n",
    "# Get NumPy arrays to evaluate the multi-objective function\n",
    "x = PSSA.get_cost_matrix(students, schools, cost_match_func=cost_match)\n",
    "cost_matrix = PSSA.get_x_matrix(students, schools, solution_dict)\n",
    "grades = np.array([e.grade_avg for e in students])\n",
    "capacities = np.array([s.capacity for s in schools])\n",
    "\n",
    "(x_plt, y_plt) = multi_cost_func(x, cost_matrix, grades, capacities)\n",
    "plt.scatter([x_plt], [y_plt], color=COLORS[3], label=\"Karakterbasert modell\", zorder=10, s=50)\n",
    "\n",
    "\n",
    "# ========================================\n",
    "# ========= OPTIMIZATION =================\n",
    "# ========================================\n",
    "\n",
    "# Create the algorithm object\n",
    "algorithm = PSSA(students, \n",
    "                 schools, \n",
    "                 cost_match_func=cost_match, \n",
    "                 multi_cost_func=multi_cost_func, \n",
    "                 max_frontier_size=40, \n",
    "                 verbose=1)\n",
    "\n",
    "# The .solve() method is implemented as a generator, run X iterations:\n",
    "for solutions in itertools.islice(algorithm.solve(), 10):\n",
    "    pass\n",
    "\n",
    "x = [x_objectives[0] for (_, x_objectives) in solutions]\n",
    "y = [x_objectives[1] for (_, x_objectives) in solutions]\n",
    "\n",
    "plt.scatter(x, y, label=\"Optimeringsmodell\", zorder=12, s=15, color=COLORS[0])\n",
    "\n",
    "# Area dominated by solutions\n",
    "frontier_steps = list(generate_itermediate([x_objectives for (_, x_objectives) in solutions]))\n",
    "#plt.plot([i for (i, j) in frontier_steps], \n",
    "#         [j for (i, j) in frontier_steps], \"--\", alpha=0.8,\n",
    "#         zorder=99, color=COLORS[0])\n",
    "\n",
    "\n",
    "plt.xlabel(\"Innvilget ønske (snitt per elev)\", fontsize=12)\n",
    "#plt.ylabel(\"Segregering\\n$\\\\leftarrow$ Lav                 Høy $\\\\rightarrow$\", fontsize=12)\n",
    "plt.ylabel(\"$\\\\leftarrow$Lav     Segregering     Høy$\\\\rightarrow$\", fontsize=12)\n",
    "plt.xlim([1.28, 1.56])\n",
    "#plt.ylim([-0.01, 0.17])\n",
    "plt.legend(loc=\"upper left\", edgecolor=\"k\", fontsize=10).set_zorder(99)\n",
    "plt.grid(True, ls=\"--\", zorder=5, alpha=0.8)\n",
    "\n",
    "frame1 = plt.gca()\n",
    "frame1.axes.yaxis.set_ticklabels([])\n",
    "\n",
    "plt.tight_layout()\n",
    "plt.savefig(os.path.join(save_dir, f\"sammenligning_modeller.png\"), dpi=200)\n",
    "plt.savefig(os.path.join(save_dir, f\"sammenligning_modeller.pdf\"))\n",
    "plt.show()"
   ]
  },
  {
   "cell_type": "markdown",
   "metadata": {},
   "source": [
    "## Weighted sampling"
   ]
  },
  {
   "cell_type": "code",
   "execution_count": 7,
   "metadata": {},
   "outputs": [],
   "source": [
    "def generate_grade_averages(num_students, num_subjects, round_to=1, seed=2):\n",
    "    np.random.seed(seed)\n",
    "    grades = np.arange(1, 7)\n",
    "    grade_probs = np.array([0.05, 0.15, 0.2, 0.3, 0.2, 0.1])\n",
    "\n",
    "    # Clip a normal distribution\n",
    "    grad_avgs = np.random.randn(num_students * 10) * 2.4 + 4\n",
    "    grad_avgs = grad_avgs[(grad_avgs <= 6) & (grad_avgs >= 1.8)]\n",
    "    grad_avgs = np.round(grad_avgs[:num_students], round_to)\n",
    "    grad_avgs = np.sort(grad_avgs)\n",
    "    return grad_avgs\n",
    "\n",
    "def rank_students(grades):\n",
    "    percentiles = stats.rankdata(grades, method='dense')\n",
    "    percentiles = percentiles - np.min(percentiles)\n",
    "    ans = percentiles / percentiles[-1]\n",
    "    assert np.min(ans) == 0\n",
    "    assert np.max(ans) == 1\n",
    "    assert np.all(ans >= 0)\n",
    "    assert np.all(ans <= 1)\n",
    "    return ans"
   ]
  },
  {
   "cell_type": "code",
   "execution_count": 8,
   "metadata": {},
   "outputs": [
    {
     "data": {
      "image/png": "[encoded data removed]",
      "text/plain": [
       "<Figure size 712.8x201.6 with 3 Axes>"
      ]
     },
     "metadata": {
      "needs_background": "light"
     },
     "output_type": "display_data"
    }
   ],
   "source": [
    "num_students = 20\n",
    "num_subjects = 20\n",
    "\n",
    "grad_avgs = generate_grade_averages(num_students, num_subjects)\n",
    "\n",
    "# =============================================================================\n",
    "plt.figure(figsize=(FIGSIZE[0]*1.65, FIGSIZE[1]*0.8))\n",
    "\n",
    "plt.subplot(1, 3, 1)\n",
    "plt.title(f\"Vekter sterkt avhengig av karakter\")\n",
    "\n",
    "plt.bar(np.arange(num_students), grad_avgs, alpha=0.9, zorder=10)\n",
    "plt.xticks([], [])\n",
    "plt.grid(True, ls=\"--\", zorder=5, alpha=0.8)\n",
    "plt.xlabel(r\"$\\leftarrow$Lav prioritet\" + r\" \"*12 + r\"Høy prioritet $\\rightarrow$\")\n",
    "plt.ylabel(r\"Snittkarakter\")\n",
    "\n",
    "# =============================================================================\n",
    "plt.subplot(1, 3, 2)\n",
    "p = 15\n",
    "plt.title(f\"Vekter noe avhengig av karakter\")\n",
    "percentiles = rank_students(grad_avgs)\n",
    "percentiles_transformed = np.exp(percentiles * p)\n",
    "weights = np.log(np.random.rand(num_students)) /(percentiles_transformed)\n",
    "sorted_inds = np.argsort(weights)\n",
    "plt.bar(np.arange(num_students), grad_avgs[sorted_inds], alpha=0.9, zorder=10)\n",
    "plt.xticks([], [])\n",
    "plt.grid(True, ls=\"--\", zorder=5, alpha=0.8)\n",
    "plt.xlabel(r\"$\\leftarrow$Lav prioritet\" + r\" \"*12 + r\"Høy prioritet $\\rightarrow$\")\n",
    "\n",
    "# =============================================================================\n",
    "plt.subplot(1, 3, 3)\n",
    "p = 1\n",
    "plt.title(f\"Vekter svakt avhengig av karakter\")\n",
    "percentiles = rank_students(grad_avgs)\n",
    "percentiles_transformed = np.exp(percentiles * p) \n",
    "weights = np.log(np.random.rand(num_students)) /(percentiles_transformed)\n",
    "sorted_inds = np.argsort(weights)\n",
    "plt.bar(np.arange(num_students), grad_avgs[sorted_inds], alpha=0.9, zorder=10)\n",
    "plt.xticks([], [])\n",
    "plt.grid(True, ls=\"--\", zorder=5, alpha=0.8)\n",
    "plt.xlabel(r\"$\\leftarrow$Lav prioritet\" + r\" \"*12 + r\"Høy prioritet $\\rightarrow$\")\n",
    "\n",
    "plt.tight_layout()\n",
    "plt.savefig(os.path.join(save_dir, \"vektet_loddtrekning.png\"), dpi=200)\n",
    "plt.show()\n"
   ]
  },
  {
   "cell_type": "code",
   "execution_count": 9,
   "metadata": {},
   "outputs": [
    {
     "data": {
      "image/png": "[encoded data removed]",
      "text/plain": [
       "<Figure size 302.4x453.6 with 3 Axes>"
      ]
     },
     "metadata": {
      "needs_background": "light"
     },
     "output_type": "display_data"
    }
   ],
   "source": [
    "num_students = 28\n",
    "num_subjects = 20\n",
    "\n",
    "grad_avgs = generate_grade_averages(num_students, num_subjects)\n",
    "\n",
    "# =============================================================================\n",
    "plt.figure(figsize=(FIGSIZE[0]*0.7, FIGSIZE[1]*1.8))\n",
    "\n",
    "plt.subplot(3, 1, 1)\n",
    "plt.title(f\"Karakterbasert rangering\")\n",
    "\n",
    "plt.bar(np.arange(num_students), grad_avgs, alpha=0.9, zorder=10)\n",
    "plt.xticks([], [])\n",
    "plt.yticks(np.arange(1, 7))\n",
    "plt.grid(True, ls=\"--\", zorder=5, alpha=0.8)\n",
    "plt.xlabel(r\"$\\leftarrow$Lav rangering\" + r\" \"*12 + r\"Høy rangering $\\rightarrow$\")\n",
    "plt.ylabel(\"Karakterer\")\n",
    "\n",
    "# =============================================================================\n",
    "plt.subplot(3, 1, 2)\n",
    "p = 20\n",
    "plt.title(f\"Loddtrekning sterkt avhengig av karakter\")\n",
    "percentiles = rank_students(grad_avgs)\n",
    "percentiles_transformed = np.exp(percentiles * p)\n",
    "weights = np.log(np.random.rand(num_students)) /(percentiles_transformed)\n",
    "sorted_inds = np.argsort(weights)\n",
    "plt.bar(np.arange(num_students), grad_avgs[sorted_inds], alpha=0.9, zorder=10)\n",
    "plt.xticks([], [])\n",
    "plt.yticks(np.arange(1, 7))\n",
    "plt.grid(True, ls=\"--\", zorder=5, alpha=0.8)\n",
    "plt.xlabel(r\"$\\leftarrow$Lav rangering\" + r\" \"*12 + r\"Høy rangering $\\rightarrow$\")\n",
    "plt.ylabel(\"Karakterer\")\n",
    "\n",
    "# =============================================================================\n",
    "plt.subplot(3, 1, 3)\n",
    "p = 3\n",
    "plt.title(f\"Loddtrekning svakt avhengig av karakter\")\n",
    "percentiles = rank_students(grad_avgs)\n",
    "percentiles_transformed = np.exp(percentiles * p) \n",
    "weights = np.log(np.random.rand(num_students)) /(percentiles_transformed)\n",
    "sorted_inds = np.argsort(weights)\n",
    "plt.bar(np.arange(num_students), grad_avgs[sorted_inds], alpha=0.9, zorder=10)\n",
    "plt.xticks([], [])\n",
    "plt.yticks(np.arange(1, 7))\n",
    "\n",
    "plt.grid(True, ls=\"--\", zorder=5, alpha=0.8)\n",
    "plt.xlabel(r\"$\\leftarrow$Lav rangering\" + r\" \"*12 + r\"Høy rangering $\\rightarrow$\")\n",
    "plt.ylabel(\"Karakterer\")\n",
    "\n",
    "plt.tight_layout()\n",
    "plt.savefig(os.path.join(save_dir, \"vektet_loddtrekning.png\"), dpi=200)\n",
    "plt.savefig(os.path.join(save_dir, \"vektet_loddtrekning.pdf\"), dpi=200)\n",
    "plt.show()"
   ]
  }
 ],
 "metadata": {
  "kernelspec": {
   "display_name": "Python 3",
   "language": "python",
   "name": "python3"
  },
  "language_info": {
   "codemirror_mode": {
    "name": "ipython",
    "version": 3
   },
   "file_extension": ".py",
   "mimetype": "text/x-python",
   "name": "python",
   "nbconvert_exporter": "python",
   "pygments_lexer": "ipython3",
   "version": "3.7.7"
  }
 },
 "nbformat": 4,
 "nbformat_minor": 4
}
