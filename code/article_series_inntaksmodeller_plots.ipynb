{
 "cells": [
  {
   "cell_type": "markdown",
   "metadata": {},
   "source": [
    "# Create plots for article series \"inntaksmodeller\""
   ]
  },
  {
   "cell_type": "code",
   "execution_count": 1,
   "metadata": {},
   "outputs": [],
   "source": [
    "import matplotlib.pyplot as plt\n",
    "import numpy as np\n",
    "import random\n",
    "import collections.abc\n",
    "import math\n",
    "import operator\n",
    "import time\n",
    "import pandas as pd\n",
    "import os\n",
    "from ortools.graph import pywrapgraph\n",
    "\n",
    "from scipy.special import comb\n",
    "from functools import reduce\n",
    "import operator\n",
    "from math import log10"
   ]
  },
  {
   "cell_type": "code",
   "execution_count": 2,
   "metadata": {},
   "outputs": [],
   "source": [
    "save_dir = r\"../figures\"\n",
    "\n",
    "if not os.path.exists(save_dir):\n",
    "    os.makedirs(save_dir)\n",
    "    \n",
    "FIGSIZE = (6, 3)\n",
    "COLORS = list(plt.rcParams['axes.prop_cycle'].by_key()['color'])"
   ]
  },
  {
   "cell_type": "markdown",
   "metadata": {},
   "source": [
    "# Geography"
   ]
  },
  {
   "cell_type": "code",
   "execution_count": 3,
   "metadata": {},
   "outputs": [],
   "source": [
    "def generate_problem(num_schools, num_students, seed=41, multiplier=50):\n",
    "    \"\"\"Generate a geographical problem.\"\"\"\n",
    "    \n",
    "    np.random.seed(seed)\n",
    "    school_capacities = np.ones(num_schools) * (num_students / num_schools)\n",
    "\n",
    "    # Draw locations\n",
    "    school_locations = np.random.randn(num_schools, 2)\n",
    "    student_locations = np.random.randn(num_students, 2)\n",
    "\n",
    "    # Create distance matrix\n",
    "    distances = np.empty((num_students, num_schools))\n",
    "    for i in range(num_students):\n",
    "        for j in range(num_schools):\n",
    "            distances[i][j] = multiplier * np.linalg.norm(school_locations[j, :] - student_locations[i, :])\n",
    "            \n",
    "    return distances, school_capacities,school_locations, student_locations\n",
    "\n",
    "\n",
    "def solve_problem(num_schools, num_students, distances, school_capacities,  p=1):\n",
    "    \"\"\"Solve the min-cost problem.\"\"\"\n",
    "    \n",
    "    min_cost_flow = pywrapgraph.SimpleMinCostFlow()\n",
    "\n",
    "    node_names = list(range(1 + num_schools + num_students))\n",
    "\n",
    "    # Add arcs from source to students\n",
    "    for i in range(num_students):\n",
    "        min_cost_flow.AddArcWithCapacityAndUnitCost(0, 1+i, 1, 0)\n",
    "\n",
    "    # Add arcs from students to schools\n",
    "    for i in range(num_students):\n",
    "        for j in range(num_schools):\n",
    "            dist = int(round(distances[i][j]**p))\n",
    "            min_cost_flow.AddArcWithCapacityAndUnitCost(1+i, 1+num_students+j, 1, dist)\n",
    "\n",
    "    # Add arcs from schools to target\n",
    "    for j in range(num_schools):\n",
    "        min_cost_flow.AddArcWithCapacityAndUnitCost(1+num_students+j, \n",
    "                                                    1+num_students+num_schools, \n",
    "                                                    int(school_capacities[j]), 0)\n",
    "\n",
    "    min_cost_flow.SetNodeSupply(0, num_students)\n",
    "    min_cost_flow.SetNodeSupply(1+num_students+num_schools, -num_students)\n",
    "    \n",
    "    \n",
    "    ####################\n",
    "    \n",
    "    source = 0\n",
    "    sink = 1+num_students+num_schools\n",
    "\n",
    "    distances_solution = []\n",
    "    chosen_schools = [None for i in range(num_students)]\n",
    "\n",
    "    start_time = time.time()\n",
    "    result = min_cost_flow.Solve()\n",
    "    solve_time = time.time() - start_time\n",
    "    \n",
    "    assert result == min_cost_flow.OPTIMAL\n",
    "    #print('Total cost = ', min_cost_flow.OptimalCost())\n",
    "    for arc in range(min_cost_flow.NumArcs()):\n",
    "        # Can ignore arcs leading out of source or into sink.\n",
    "        if min_cost_flow.Tail(arc)!=source and min_cost_flow.Head(arc)!=sink:\n",
    "\n",
    "            # Arcs in the solution have a flow value of 1. Their start and end nodes\n",
    "            # give an assignment of worker to task.\n",
    "            if min_cost_flow.Flow(arc) > 0:\n",
    "                i = min_cost_flow.Tail(arc) - 1\n",
    "                j = min_cost_flow.Head(arc) - num_students - 1\n",
    "                distances_solution.append(distances[i][j])\n",
    "                chosen_schools[i] = j\n",
    "                \n",
    "    return distances_solution, chosen_schools, solve_time "
   ]
  },
  {
   "cell_type": "markdown",
   "metadata": {},
   "source": [
    "## Create a plot where p=1 and p=2 are different"
   ]
  },
  {
   "cell_type": "code",
   "execution_count": 4,
   "metadata": {},
   "outputs": [],
   "source": [
    "# Find a good seed where students are assigned differently\n",
    "\n",
    "num_schools = 3\n",
    "num_students = 90\n",
    "multiplier = 1000\n",
    "\n",
    "max_diff = 0\n",
    "best_seed = 0\n",
    "\n",
    "for seed in range(50):\n",
    "    distances, school_capacities, _, _ = generate_problem(num_schools, num_students, \n",
    "                                                          seed=seed,\n",
    "                                                         multiplier=multiplier)\n",
    "\n",
    "    _, chosen1, _ = solve_problem(num_schools, num_students, distances, school_capacities, p=1)\n",
    "    _, chosen2, _ = solve_problem(num_schools, num_students, distances, school_capacities, p=2)\n",
    "\n",
    "    diff = sum(1 if i != j else 0 for i,j in zip(chosen1, chosen2))\n",
    "    \n",
    "    if diff > max_diff:\n",
    "        max_diff = diff\n",
    "        best_seed = seed"
   ]
  },
  {
   "cell_type": "code",
   "execution_count": 5,
   "metadata": {},
   "outputs": [],
   "source": [
    "problem_data = generate_problem(num_schools, num_students, seed=best_seed, multiplier=multiplier)\n",
    "distances, school_capacities,school_locations, student_locations = problem_data"
   ]
  },
  {
   "cell_type": "code",
   "execution_count": 6,
   "metadata": {},
   "outputs": [
    {
     "data": {
      "image/png": "[encoded data removed]",
      "text/plain": [
       "<Figure size 604.8x194.4 with 2 Axes>"
      ]
     },
     "metadata": {
      "needs_background": "light"
     },
     "output_type": "display_data"
    },
    {
     "data": {
      "image/png": "[encoded data removed]",
      "text/plain": [
       "<Figure size 604.8x194.4 with 2 Axes>"
      ]
     },
     "metadata": {
      "needs_background": "light"
     },
     "output_type": "display_data"
    }
   ],
   "source": [
    "for p in [1, 2]:\n",
    "    \n",
    "    solved = solve_problem(num_schools, num_students, distances, school_capacities, p=p)\n",
    "    distances_solution, chosen_schools, solve_time = solved\n",
    "\n",
    "    plt.figure(figsize=(FIGSIZE[0]*1.4, FIGSIZE[1]*0.9))\n",
    "    plt.suptitle(f\"Geografisk fordeling av {num_students} elever på {num_schools} skoler med lik kapasitet ($p={p}$).\", \n",
    "                 y=0.99, fontsize=14)\n",
    "\n",
    "    plt.subplot(1, 2, 1)\n",
    "    plt.title(f\"Geografisk fordeling\")\n",
    "\n",
    "    plt.scatter(school_locations[:, 0], \n",
    "                school_locations[:, 1], marker=\"s\", s=75, \n",
    "                zorder=10, color=COLORS[:num_schools],\n",
    "               edgecolor='k', label=\"Skoler\")\n",
    "\n",
    "    labeled = False\n",
    "    for i in range(num_students):\n",
    "        color = COLORS[chosen_schools[i]]\n",
    "        if not labeled and chosen_schools[i] == 0:\n",
    "            plt.scatter(student_locations[i, 0], student_locations[i, 1], s=10,\n",
    "                        zorder=5, color=color,\n",
    "                       label=\"Elever\")\n",
    "            labeled=True\n",
    "        else:\n",
    "            plt.scatter(student_locations[i, 0], student_locations[i, 1], s=10,\n",
    "                        zorder=5, color=color)\n",
    "\n",
    "    plt.legend(edgecolor=\"k\")\n",
    "    plt.tight_layout()\n",
    "    plt.xticks([], [])\n",
    "    plt.yticks([], [])\n",
    "\n",
    "\n",
    "    plt.subplot(1, 2, 2)\n",
    "    plt.title(f\"Fordeling av elevenes distanser til skolene\")\n",
    "    plt.hist(np.array(distances_solution)/100, bins=num_students//8, color=COLORS[num_schools+1], edgecolor=\"k\")\n",
    "    plt.yticks([], [])\n",
    "\n",
    "    plt.tight_layout(rect=[0, 0.03, 1, 0.95])\n",
    "\n",
    "    plt.savefig(os.path.join(save_dir, f\"geographical_distribution_p_{str(int(p))}.png\"), dpi=300)\n",
    "    plt.show()"
   ]
  },
  {
   "cell_type": "markdown",
   "metadata": {},
   "source": [
    "## Solution times on a large problem"
   ]
  },
  {
   "cell_type": "code",
   "execution_count": 7,
   "metadata": {},
   "outputs": [
    {
     "name": "stdout",
     "output_type": "stream",
     "text": [
      "30 6990\n"
     ]
    },
    {
     "data": {
      "text/plain": [
       "(0.0, 0.0)"
      ]
     },
     "execution_count": 7,
     "metadata": {},
     "output_type": "execute_result"
    }
   ],
   "source": [
    "\n",
    "# Solution times\n",
    "\n",
    "# https://www.oslo.kommune.no/skole-og-utdanning/sokertall-videregaende-skole/\n",
    "num_schools = 30\n",
    "num_students = 233 * 30\n",
    "print(num_schools, num_students)\n",
    "\n",
    "solve_times = []\n",
    "for seed in range(20):\n",
    "    solve_times.append(0)\n",
    "    continue\n",
    "    distances, school_capacities, _, _ = generate_problem(num_schools, num_students, seed=seed)\n",
    "    _, chosen1, solve_time = solve_problem(num_schools, num_students, distances, school_capacities, p=1)\n",
    "    \n",
    "    solve_times.append(solve_time)\n",
    "\n",
    "# Result of 20 runs:\n",
    "# (0.11042320728302002, 0.11192597150802612)\n",
    "np.median(solve_times), np.mean(solve_times)"
   ]
  },
  {
   "cell_type": "code",
   "execution_count": 8,
   "metadata": {},
   "outputs": [
    {
     "data": {
      "text/plain": [
       "10279.911207540123"
      ]
     },
     "execution_count": 8,
     "metadata": {},
     "output_type": "execute_result"
    }
   ],
   "source": [
    "num_schools = 30\n",
    "num_students = 233 * 30\n",
    "\n",
    "def num_solutions(num_schools, num_students):\n",
    "    students_per_class = num_students // num_schools\n",
    "    assert students_per_class * num_schools == num_students\n",
    "    combinations = [comb(num_students - i*students_per_class, students_per_class, exact=True)\n",
    "for i in range(num_schools)]\n",
    "    return log10(reduce(operator.mul, combinations))\n",
    "\n",
    "\n",
    "num_solutions(num_schools, num_students)"
   ]
  },
  {
   "cell_type": "markdown",
   "metadata": {},
   "source": [
    "## Pretty cover figure on medium-sized problem"
   ]
  },
  {
   "cell_type": "code",
   "execution_count": 9,
   "metadata": {},
   "outputs": [],
   "source": [
    "num_schools = 5\n",
    "num_students = 500\n",
    "multiplier = 100\n",
    "\n",
    "problem_data = generate_problem(num_schools, num_students, seed=7, multiplier=multiplier)\n",
    "distances, school_capacities,school_locations, student_locations = problem_data\n",
    "\n",
    "solved = solve_problem(num_schools, num_students, distances, school_capacities, p=2)\n",
    "distances_solution, chosen_schools, solve_time = solved"
   ]
  },
  {
   "cell_type": "code",
   "execution_count": 10,
   "metadata": {},
   "outputs": [
    {
     "data": {
      "image/png": "[encoded data removed]",
      "text/plain": [
       "<Figure size 496.8x216 with 1 Axes>"
      ]
     },
     "metadata": {},
     "output_type": "display_data"
    }
   ],
   "source": [
    "plt.figure(figsize=(FIGSIZE[0]*1.15, FIGSIZE[1]))\n",
    "plt.title(f\"Geografisk fordeling av {num_students} elever på {num_schools} skoler med lik kapasitet\")\n",
    "\n",
    "plt.scatter(school_locations[:, 0], \n",
    "            school_locations[:, 1], marker=\"s\", s=75, \n",
    "            zorder=10, color=COLORS[:num_schools],\n",
    "           edgecolor='k', label=\"Skoler\")\n",
    "\n",
    "labeled = False\n",
    "for i in range(num_students):\n",
    "    color = COLORS[chosen_schools[i]]\n",
    "    if not labeled and chosen_schools[i] == 0:\n",
    "        plt.scatter(student_locations[i, 0], student_locations[i, 1], s=10,\n",
    "                    zorder=5, color=color,\n",
    "                   label=\"Elever\")\n",
    "        labeled=True\n",
    "    else:\n",
    "        plt.scatter(student_locations[i, 0], student_locations[i, 1], s=10,\n",
    "                    zorder=5, color=color)\n",
    "\n",
    "plt.legend(edgecolor=\"k\")\n",
    "plt.tight_layout()\n",
    "plt.xticks([], [])\n",
    "plt.yticks([], [])\n",
    "plt.tight_layout()\n",
    "plt.savefig(os.path.join(save_dir, f\"geographical_distribution_large.png\"), dpi=300)\n",
    "plt.show()"
   ]
  },
  {
   "cell_type": "markdown",
   "metadata": {},
   "source": [
    "# Grades"
   ]
  },
  {
   "cell_type": "code",
   "execution_count": 11,
   "metadata": {},
   "outputs": [],
   "source": [
    "from scipy.stats import rankdata\n",
    "\n",
    "def rank_students(grades):\n",
    "    percentiles = rankdata(grades, method='dense')\n",
    "    percentiles = percentiles - np.min(percentiles)\n",
    "    ans = percentiles / percentiles[-1]\n",
    "    assert np.min(ans) == 0\n",
    "    assert np.max(ans) == 1\n",
    "    assert np.all(ans >= 0)\n",
    "    assert np.all(ans <= 1)\n",
    "    return ans\n",
    "\n",
    "def generate_grade_averages(num_students, num_subjects, round_to=1, seed=2):\n",
    "    np.random.seed(seed)\n",
    "    grades = np.arange(1, 7)\n",
    "    grade_probs = np.array([0.05, 0.15, 0.2, 0.3, 0.2, 0.1])\n",
    "\n",
    "    # Clip a normal distribution\n",
    "    grad_avgs = np.random.randn(num_students * 10) * 2.4 + 4\n",
    "    grad_avgs = grad_avgs[(grad_avgs <= 6) & (grad_avgs >= 1.8)]\n",
    "    grad_avgs = np.round(grad_avgs[:num_students], round_to)\n",
    "    grad_avgs = np.sort(grad_avgs)\n",
    "    return grad_avgs"
   ]
  },
  {
   "cell_type": "markdown",
   "metadata": {},
   "source": [
    "## Show current transformation"
   ]
  },
  {
   "cell_type": "code",
   "execution_count": 12,
   "metadata": {},
   "outputs": [
    {
     "data": {
      "image/png": "[encoded data removed]",
      "text/plain": [
       "<Figure size 561.6x162 with 2 Axes>"
      ]
     },
     "metadata": {
      "needs_background": "light"
     },
     "output_type": "display_data"
    }
   ],
   "source": [
    "num_students = 40\n",
    "num_subjects = 20\n",
    "grad_avgs = generate_grade_averages(num_students, num_subjects)\n",
    "\n",
    "percentage = 0.2\n",
    "i = int(len(grad_avgs) * percentage)\n",
    "# =============================================================================\n",
    "plt.figure(figsize=(FIGSIZE[0]*1.3, FIGSIZE[1]*0.75))\n",
    "plt.subplot(1, 2, 1)\n",
    "plt.title(f\"Prioritet basert på karakterer\")\n",
    "\n",
    "plt.bar(np.arange(num_students), grad_avgs, alpha=0.9, zorder=10, width=0.75)\n",
    "plt.xticks([], [])\n",
    "plt.grid(True, ls=\"--\", zorder=5, alpha=0.8)\n",
    "plt.xlabel(r\"$\\leftarrow$Lav prioritet\" + r\" \"*20 + r\"Høy prioritet $\\rightarrow$\")\n",
    "plt.axvline(x=i-0.5, color=COLORS[3], ls=\"--\", zorder=15, linewidth=3, alpha=0.5)\n",
    "plt.ylabel(r\"Snittkarakter\")\n",
    "\n",
    "# =============================================================================\n",
    "plt.subplot(1, 2, 2)\n",
    "plt.title(f\"Prioritet basert på kvotering ({int(percentage * 100)} %)\")\n",
    "\n",
    "transformed = np.hstack((grad_avgs[i:], grad_avgs[:i][::-1]))\n",
    "\n",
    "plt.bar(np.arange(num_students), transformed, alpha=0.9, zorder=10, width=0.75)\n",
    "plt.xticks([], [])\n",
    "plt.grid(True, ls=\"--\", zorder=5, alpha=0.8)\n",
    "plt.xlabel(r\"$\\leftarrow$Lav prioritet\" + r\" \"*20 + r\"Høy prioritet $\\rightarrow$\")\n",
    "plt.axvline(x=num_students-i-0.5, color=COLORS[3], ls=\"--\", zorder=15, linewidth=3)\n",
    "\n",
    "plt.tight_layout()\n",
    "plt.savefig(os.path.join(save_dir, \"grade_priority_proposition.png\"), dpi=300)\n",
    "plt.show()"
   ]
  },
  {
   "cell_type": "markdown",
   "metadata": {},
   "source": [
    "## Explain new transformation"
   ]
  },
  {
   "cell_type": "code",
   "execution_count": 13,
   "metadata": {},
   "outputs": [
    {
     "name": "stdout",
     "output_type": "stream",
     "text": [
      "[0.         0.06666667 0.13333333 0.2        0.26666667 0.33333333\n",
      " 0.4        0.46666667 0.53333333 0.53333333 0.6        0.6\n",
      " 0.66666667 0.73333333 0.73333333 0.8        0.86666667 0.93333333\n",
      " 1.         1.        ]\n"
     ]
    },
    {
     "data": {
      "image/png": "[encoded data removed]",
      "text/plain": [
       "<Figure size 604.8x129.6 with 4 Axes>"
      ]
     },
     "metadata": {
      "needs_background": "light"
     },
     "output_type": "display_data"
    }
   ],
   "source": [
    "num_students = 20\n",
    "num_subjects = 20\n",
    "grad_avgs = generate_grade_averages(num_students, num_subjects)\n",
    "\n",
    "# =============================================================================\n",
    "plt.figure(figsize=(FIGSIZE[0]*1.4, FIGSIZE[1]*0.6))\n",
    "\n",
    "plt.subplot(1, 4, 1)\n",
    "plt.title(f\"Karakterer $k_i$\")\n",
    "plt.bar(np.arange(num_students), grad_avgs, alpha=0.9, zorder=10)\n",
    "plt.xticks([], [])\n",
    "plt.grid(True, ls=\"--\", zorder=5, alpha=0.8)\n",
    "plt.ylabel(r\"Snittkarakter\")\n",
    "\n",
    "# =============================================================================\n",
    "plt.subplot(1, 4, 2)\n",
    "plt.title(f\"Rangering $r_i$\")\n",
    "percentiles = rank_students(grad_avgs)\n",
    "print(percentiles)\n",
    "plt.bar(np.arange(num_students), percentiles, alpha=0.9, zorder=10)\n",
    "plt.xticks([], [])\n",
    "plt.grid(True, ls=\"--\", zorder=5, alpha=0.8)\n",
    "plt.ylabel(r\"Rank\")\n",
    "\n",
    "# =============================================================================\n",
    "plt.subplot(1, 4, 3)\n",
    "p = 5\n",
    "plt.title(f\"Vekter $v_i$\")\n",
    "percentiles_transformed = np.exp(percentiles * p) \n",
    "percentiles_transformed = percentiles_transformed / np.max(percentiles_transformed)\n",
    "plt.bar(np.arange(num_students), percentiles_transformed, alpha=0.9, zorder=10)\n",
    "plt.xticks([], [])\n",
    "plt.grid(True, ls=\"--\", zorder=5, alpha=0.8)\n",
    "plt.ylabel(r\"Vekt\")\n",
    "\n",
    "# =============================================================================\n",
    "plt.subplot(1, 4, 4)\n",
    "p = 5\n",
    "plt.title(f\"Prioritet\")\n",
    "weights = np.log(np.random.rand(num_students)) /(percentiles_transformed)\n",
    "sorted_inds = np.argsort(weights)\n",
    "plt.bar(np.arange(num_students), grad_avgs[sorted_inds], alpha=0.9, zorder=10)\n",
    "plt.xticks([], [])\n",
    "plt.grid(True, ls=\"--\", zorder=5, alpha=0.8)\n",
    "plt.ylabel(r\"Snittkarakter\")\n",
    "plt.tight_layout()\n",
    "plt.savefig(os.path.join(save_dir, \"rank_transformation_explained.png\"), dpi=300)\n",
    "plt.show()\n"
   ]
  },
  {
   "cell_type": "markdown",
   "metadata": {},
   "source": [
    "## Rank transformations"
   ]
  },
  {
   "cell_type": "code",
   "execution_count": 14,
   "metadata": {},
   "outputs": [
    {
     "name": "stdout",
     "output_type": "stream",
     "text": [
      "0.1717171717171717\n",
      "0.0707070707070707\n",
      "0.030303030303030304\n"
     ]
    },
    {
     "data": {
      "image/png": "[encoded data removed]",
      "text/plain": [
       "<Figure size 570.24x155.52 with 3 Axes>"
      ]
     },
     "metadata": {
      "needs_background": "light"
     },
     "output_type": "display_data"
    },
    {
     "name": "stdout",
     "output_type": "stream",
     "text": [
      "CPU times: user 653 ms, sys: 8.08 ms, total: 661 ms\n",
      "Wall time: 657 ms\n"
     ]
    }
   ],
   "source": [
    "%%time\n",
    "\n",
    "num_students = 100\n",
    "num_subjects = 20\n",
    "\n",
    "grad_avgs = generate_grade_averages(num_students, num_subjects, round_to=8)\n",
    "\n",
    "exp1 = lambda x:np.exp(x) \n",
    "exp2 = lambda x:np.exp(x*3) \n",
    "exp3 = lambda x:np.exp(x*8) \n",
    "funcs = [exp1, exp2, exp3]\n",
    "titles = [r\"$\\alpha=1$\", \n",
    "          r\"$\\alpha=3$\", \n",
    "          r\"$\\alpha=8$\",]\n",
    "\n",
    "\n",
    "simulations = 1_000_0\n",
    "percentiles = rank_students(grad_avgs)\n",
    "\n",
    "plt.figure(figsize=(FIGSIZE[0]*1.65*0.8, FIGSIZE[1]*0.8*0.9))\n",
    "\n",
    "for i, (func, title) in enumerate(zip(funcs, titles)):\n",
    "\n",
    "    percentiles_transformed = func(percentiles)\n",
    "    # Linear transformation, does not affect weighting for sampling\n",
    "    percentiles_transformed = percentiles_transformed / np.max(percentiles_transformed)\n",
    "\n",
    "    # Dimension (simulations, students)\n",
    "    runs = np.outer(np.ones(simulations), percentiles_transformed)\n",
    "    weights = np.log(np.random.rand(*runs.shape)) / runs\n",
    "    sorted_inds = np.argsort(weights, axis=1)\n",
    "\n",
    "    # Trick to re-index multidimensional array from argsort\n",
    "    # https://stackoverflow.com/questions/33140674/argsort-for-a-multidimensional-ndarray\n",
    "    new_percentiles = np.outer(np.ones(simulations), percentiles)\n",
    "    new_percentiles = new_percentiles[np.arange(np.shape(new_percentiles)[0])[:, np.newaxis], sorted_inds]\n",
    "    \n",
    "    assert np.all(new_percentiles.min(axis=1) == np.min(percentiles))\n",
    "    assert np.all(new_percentiles.max(axis=1) == np.max(percentiles))\n",
    "\n",
    "\n",
    "    ll, low, mid, high, hh = np.percentile(new_percentiles, q=[10, 25, 50, 75, 90], axis=0)\n",
    "\n",
    "    print(mid[0])\n",
    "    \n",
    "    plt.subplot(1, len(titles), i+1)\n",
    "    plt.title(title)\n",
    "    plt.plot(percentiles, mid, zorder=50)\n",
    "    plt.plot(percentiles, percentiles, zorder=99, color=COLORS[1], ls='--')\n",
    "    plt.fill_between(percentiles, low, high, alpha=0.5, zorder=25)\n",
    "    plt.fill_between(percentiles, ll, hh, alpha=0.25, color=COLORS[0], zorder=15)\n",
    "    plt.grid(True, ls=\"--\", zorder=5, alpha=0.8)\n",
    "    plt.xlabel(r\"Original prioritet\")\n",
    "    plt.xticks([0, 0.5, 1])\n",
    "    plt.yticks([0, 0.5, 1])\n",
    "    if i == 0:\n",
    "        plt.ylabel(r\"Ny prioritet\")\n",
    "    else:\n",
    "        plt.yticks(fontsize=0)\n",
    "\n",
    "plt.tight_layout()\n",
    "plt.savefig(os.path.join(save_dir, \"rank_transformations.png\"), dpi=300)\n",
    "plt.show()"
   ]
  },
  {
   "cell_type": "markdown",
   "metadata": {},
   "source": [
    "## Rank transformations on data"
   ]
  },
  {
   "cell_type": "code",
   "execution_count": 15,
   "metadata": {},
   "outputs": [
    {
     "data": {
      "image/png": "[encoded data removed]",
      "text/plain": [
       "<Figure size 712.8x172.8 with 3 Axes>"
      ]
     },
     "metadata": {
      "needs_background": "light"
     },
     "output_type": "display_data"
    }
   ],
   "source": [
    "num_students = 20\n",
    "num_subjects = 20\n",
    "\n",
    "grad_avgs = generate_grade_averages(num_students, num_subjects)\n",
    "\n",
    "# =============================================================================\n",
    "plt.figure(figsize=(FIGSIZE[0]*1.65, FIGSIZE[1]*0.8))\n",
    "#plt.suptitle(f\"Fordeling av studenter\", y=1.1)\n",
    "\n",
    "plt.subplot(1, 3, 1)\n",
    "plt.title(f\"Prioritet basert på karakterer\")\n",
    "\n",
    "plt.bar(np.arange(num_students), grad_avgs, alpha=0.9, zorder=10)\n",
    "plt.xticks([], [])\n",
    "plt.grid(True, ls=\"--\", zorder=5, alpha=0.8)\n",
    "plt.xlabel(r\"$\\leftarrow$Lav prioritet\" + r\" \"*12 + r\"Høy prioritet $\\rightarrow$\")\n",
    "plt.ylabel(r\"Snittkarakter\")\n",
    "\n",
    "# =============================================================================\n",
    "plt.subplot(1, 3, 2)\n",
    "p = 15\n",
    "plt.title(f\"Prioritet med vekter $v_i = \\exp ({p} \\, r_i)$\")\n",
    "percentiles = rank_students(grad_avgs)\n",
    "percentiles_transformed = np.exp(percentiles * p)\n",
    "#plt.plot(percentiles_transformed)\n",
    "weights = np.log(np.random.rand(num_students)) /(percentiles_transformed)\n",
    "sorted_inds = np.argsort(weights)\n",
    "plt.bar(np.arange(num_students), grad_avgs[sorted_inds], alpha=0.9, zorder=10)\n",
    "plt.xticks([], [])\n",
    "plt.grid(True, ls=\"--\", zorder=5, alpha=0.8)\n",
    "plt.xlabel(r\"$\\leftarrow$Lav prioritet\" + r\" \"*12 + r\"Høy prioritet $\\rightarrow$\")\n",
    "\n",
    "# =============================================================================\n",
    "plt.subplot(1, 3, 3)\n",
    "p = 5\n",
    "plt.title(f\"Prioritet med vekter $v_i = \\exp ({p} \\, r_i)$\")\n",
    "percentiles = rank_students(grad_avgs)\n",
    "percentiles_transformed = np.exp(percentiles * p) \n",
    "weights = np.log(np.random.rand(num_students)) /(percentiles_transformed)\n",
    "sorted_inds = np.argsort(weights)\n",
    "plt.bar(np.arange(num_students), grad_avgs[sorted_inds], alpha=0.9, zorder=10)\n",
    "plt.xticks([], [])\n",
    "plt.grid(True, ls=\"--\", zorder=5, alpha=0.8)\n",
    "plt.xlabel(r\"$\\leftarrow$Lav prioritet\" + r\" \"*12 + r\"Høy prioritet $\\rightarrow$\")\n",
    "\n",
    "plt.tight_layout()\n",
    "plt.savefig(os.path.join(save_dir, \"rank_transformations_on_data.png\"), dpi=300)\n",
    "plt.show()\n"
   ]
  },
  {
   "cell_type": "markdown",
   "metadata": {},
   "source": [
    "# Social inequality"
   ]
  },
  {
   "cell_type": "markdown",
   "metadata": {},
   "source": [
    "## Simulated annealing on distance"
   ]
  },
  {
   "cell_type": "code",
   "execution_count": 16,
   "metadata": {},
   "outputs": [],
   "source": [
    "# True answer\n",
    "num_schools = 5\n",
    "num_students = 500\n",
    "multiplier = 1000\n",
    "p = 2\n",
    "\n",
    "problem_data = generate_problem(num_schools, num_students, seed=2, multiplier=multiplier)\n",
    "distances, school_capacities,school_locations, student_locations = problem_data\n",
    "\n",
    "solved = solve_problem(num_schools, num_students, distances, school_capacities, p=p)\n",
    "distances_solution, chosen_schools, solve_time = solved\n",
    "\n",
    "\n",
    "distances = distances / multiplier\n",
    "distances_solution = [d / multiplier for d in distances_solution]"
   ]
  },
  {
   "cell_type": "code",
   "execution_count": 17,
   "metadata": {},
   "outputs": [],
   "source": [
    "# Square the distances\n",
    "distances = distances**p"
   ]
  },
  {
   "cell_type": "code",
   "execution_count": 18,
   "metadata": {},
   "outputs": [
    {
     "data": {
      "text/plain": [
       "630.580613257718"
      ]
     },
     "execution_count": 18,
     "metadata": {},
     "output_type": "execute_result"
    }
   ],
   "source": [
    "sum(distances_solution)"
   ]
  },
  {
   "cell_type": "code",
   "execution_count": 19,
   "metadata": {},
   "outputs": [
    {
     "name": "stdout",
     "output_type": "stream",
     "text": [
      "11.343362808227539\n"
     ]
    },
    {
     "data": {
      "image/png": "[encoded data removed]",
      "text/plain": [
       "<Figure size 432x216 with 1 Axes>"
      ]
     },
     "metadata": {
      "needs_background": "light"
     },
     "output_type": "display_data"
    },
    {
     "name": "stdout",
     "output_type": "stream",
     "text": [
      "0.00045382207016474445\n"
     ]
    }
   ],
   "source": [
    "# Setup simulated annealing\n",
    "x = np.zeros((num_students, num_schools), dtype=np.int)\n",
    "assert x.shape == distances.shape\n",
    "\n",
    "students_per_school = num_students // num_schools\n",
    "assert students_per_school * num_schools == num_students\n",
    "\n",
    "# Allocate randomly\n",
    "chosen = set()\n",
    "for j in range(num_schools):\n",
    "    remaining = set(range(num_students)) - chosen\n",
    "    students = np.random.choice(list(remaining), size=students_per_school, replace=False)\n",
    "    x[students, j] = 1\n",
    "    chosen.update(set(students))\n",
    "    \n",
    "assert np.all(np.sum(x, axis=0) == students_per_school)\n",
    "assert np.all(np.sum(x, axis=1) == 1)\n",
    "    \n",
    "def get_school_inds(x):\n",
    "    num_students, num_schools = x.shape\n",
    "    return np.random.choice(list(range(num_schools)), size=2, replace=False)\n",
    "\n",
    "def get_student_inds(x, j1, j2, student_inds):\n",
    "    #assert j1 != j2\n",
    "    num_students, num_schools = x.shape\n",
    "    \n",
    "    students_in_j1 = student_inds[x[:, j1] == 1]\n",
    "    students_in_j2 = student_inds[x[:, j2] == 1]\n",
    "    #assert set(students_in_j1).intersection(set(students_in_j2)) == set()\n",
    "    i1, = np.random.choice(students_in_j1, size=1, replace=True)\n",
    "    i2, = np.random.choice(students_in_j2, size=1, replace=True)\n",
    "    return i1, i2\n",
    "\n",
    "def evaluate(x, distances):\n",
    "    num_students, num_schools = x.shape\n",
    "    students_per_school = num_students // num_schools\n",
    "    #assert students_per_school * num_schools == num_students\n",
    "    #assert np.all(np.sum(x, axis=0) == students_per_school)\n",
    "    return np.sum(distances * x)\n",
    "\n",
    "best_cost_ever = float(\"inf\")\n",
    "best_solution_ever = None\n",
    "cost = float(\"inf\")\n",
    "\n",
    "import time\n",
    "\n",
    "st = time.time()\n",
    "\n",
    "to_plot_iterations = []\n",
    "\n",
    "iterations = list(range(1, 100000 + 1))\n",
    "costs_to_plot = []\n",
    "temperatures_to_plot = []\n",
    "\n",
    "def temperature(iteration):\n",
    "    return 0.99**iteration\n",
    "\n",
    "student_inds = np.arange(num_students)\n",
    "for iteration in iterations:\n",
    "    \n",
    "    j1, j2 = get_school_inds(x)\n",
    "    i1, i2 = get_student_inds(x, j1, j2, student_inds)\n",
    "    \n",
    "    # Swap\n",
    "    x[i1, j1], x[i1, j2] = x[i1, j2], x[i1, j1]\n",
    "    x[i2, j1], x[i2, j2] = x[i2, j2], x[i2, j1]\n",
    "    proposed_cost = evaluate(x, distances)\n",
    "    temp = temperature(iteration)\n",
    "    if (proposed_cost < cost) or (random.random() < temp):\n",
    "        cost = proposed_cost\n",
    "        #print(f\"New best cost: {cost}\")\n",
    "    else:\n",
    "        x[i1, j1], x[i1, j2] = x[i1, j2], x[i1, j1]\n",
    "        x[i2, j1], x[i2, j2] = x[i2, j2], x[i2, j1]\n",
    "        assert np.all(np.sum(x, axis=0) == students_per_school)\n",
    "        \n",
    "    if cost < best_cost_ever:\n",
    "        best_solution_ever = x.copy()\n",
    "        best_cost_ever = cost\n",
    "        \n",
    "    costs_to_plot.append(cost)\n",
    "    temperatures_to_plot.append(temp)\n",
    "    \n",
    "    \n",
    "print(time.time() - st)\n",
    "\n",
    "# =============================================================================\n",
    "plt.figure(figsize=(FIGSIZE[0], FIGSIZE[1]))\n",
    "plt.title(f\"Prioritet basert på karakterer\")\n",
    "\n",
    "min_cost_solution = sum(d**2 for d in distances_solution)\n",
    "relative_error = (np.array(costs_to_plot) - min_cost_solution) / min_cost_solution\n",
    "\n",
    "plt.semilogx(iterations, relative_error, label=\"Simulated annealing\")\n",
    "plt.semilogx(iterations, temperatures_to_plot, label=\"Temperature\")\n",
    "\n",
    "plt.grid(True, ls=\"--\", zorder=5, alpha=0.8)\n",
    "plt.xlabel(r\"Iterasjoner\")\n",
    "plt.ylabel(r\"Relativ feil\")\n",
    "plt.legend(loc=\"upper right\")\n",
    "plt.tight_layout()\n",
    "plt.savefig(os.path.join(save_dir, \"simulated_annealing_geography.png\"), dpi=300)\n",
    "plt.show()\n",
    "\n",
    "print(relative_error[-1])"
   ]
  },
  {
   "cell_type": "code",
   "execution_count": 20,
   "metadata": {},
   "outputs": [],
   "source": [
    "chosen_schools_annealed = np.sum(best_solution_ever * np.arange(best_solution_ever.shape[1]), axis=1)"
   ]
  },
  {
   "cell_type": "code",
   "execution_count": 21,
   "metadata": {},
   "outputs": [
    {
     "data": {
      "image/png": "[encoded data removed]",
      "text/plain": [
       "<Figure size 691.2x216 with 2 Axes>"
      ]
     },
     "metadata": {},
     "output_type": "display_data"
    }
   ],
   "source": [
    "plt.figure(figsize=(FIGSIZE[0]*1.6, FIGSIZE[1]))\n",
    "# =============================================================================\n",
    "plt.subplot(1, 2, 1)\n",
    "plt.title(f\"Min-cost flow\")\n",
    "\n",
    "plt.scatter(school_locations[:, 0], school_locations[:, 1], marker=\"s\", s=75, \n",
    "            zorder=10, color=COLORS[:num_schools], edgecolor='k', label=\"Skoler\")\n",
    "\n",
    "labeled = False\n",
    "for i in range(num_students):\n",
    "    color = COLORS[chosen_schools[i]]\n",
    "    if not labeled and chosen_schools[i] == 0:\n",
    "        plt.scatter(student_locations[i, 0], student_locations[i, 1], s=10,\n",
    "                    zorder=5, color=color,\n",
    "                   label=\"Elever\")\n",
    "        labeled=True\n",
    "    else:\n",
    "        plt.scatter(student_locations[i, 0], student_locations[i, 1], s=10,\n",
    "                    zorder=5, color=color)\n",
    "\n",
    "plt.legend(edgecolor=\"k\")\n",
    "plt.tight_layout()\n",
    "plt.xticks([], [])\n",
    "plt.yticks([], [])\n",
    "\n",
    "# =============================================================================\n",
    "plt.subplot(1, 2, 2)\n",
    "plt.title(f\"Simulated annealing\")\n",
    "\n",
    "plt.scatter(school_locations[:, 0], school_locations[:, 1], marker=\"s\", s=75, \n",
    "            zorder=10, color=COLORS[:num_schools], edgecolor='k', label=\"Skoler\")\n",
    "\n",
    "labeled = False\n",
    "for i in range(num_students):\n",
    "    color = COLORS[chosen_schools_annealed[i]]\n",
    "    if not labeled and chosen_schools_annealed[i] == 0:\n",
    "        plt.scatter(student_locations[i, 0], student_locations[i, 1], s=10,\n",
    "                    zorder=5, color=color,\n",
    "                   label=\"Elever\")\n",
    "        labeled=True\n",
    "    else:\n",
    "        plt.scatter(student_locations[i, 0], student_locations[i, 1], s=10,\n",
    "                    zorder=5, color=color)\n",
    "\n",
    "plt.legend(edgecolor=\"k\")\n",
    "plt.tight_layout()\n",
    "plt.xticks([], [])\n",
    "plt.yticks([], [])\n",
    "\n",
    "plt.tight_layout()\n",
    "plt.savefig(os.path.join(save_dir, f\"geographical_distribution_annealing.png\"), dpi=300)\n",
    "plt.show()"
   ]
  },
  {
   "cell_type": "markdown",
   "metadata": {},
   "source": [
    "## Simulated annealing on: distance, social inequality, priorities"
   ]
  },
  {
   "cell_type": "code",
   "execution_count": 22,
   "metadata": {},
   "outputs": [],
   "source": [
    "# True answer\n",
    "num_schools = 5\n",
    "num_students = 500\n",
    "\n",
    "students_per_school = num_students // num_schools\n",
    "\n",
    "def create_structured_problem(num_schools, num_students, seed=2):\n",
    "    \"\"\"Create a problem where everyone can get first prios,\n",
    "    and the resulting allocation has equal grades in each school.\"\"\"\n",
    "    \n",
    "    # Create grades\n",
    "    grade_avgs = generate_grade_averages(students_per_school, num_subjects=20, round_to=2, seed=seed)\n",
    "    grades = np.hstack(tuple((grade_avgs) for _ in range(num_schools)))\n",
    "    assert len(grades) == num_students\n",
    "    \n",
    "    # Create priorities\n",
    "    np.random.seed(seed)\n",
    "    max_penalty = 5\n",
    "    priorities = np.zeros((num_students, num_schools), dtype=np.int) + max_penalty\n",
    "    for j in range(num_schools):\n",
    "        rows = np.arange(students_per_school) + students_per_school * j\n",
    "        priorities[rows, j] = 0\n",
    "\n",
    "    for j in range(num_students):\n",
    "        unwanted = np.arange(num_schools)[priorities[j, :] == max_penalty]\n",
    "        u1, u2 = np.random.choice(unwanted, size=2, replace=False)\n",
    "        priorities[j, u1] = 1\n",
    "        priorities[j, u2] = 2\n",
    "        \n",
    "    return grades, priorities\n",
    "    \n",
    "    \n",
    "    \n",
    "def create_random_problem(num_schools, num_students, seed=2):\n",
    "    \"\"\"Create a problem that is random.\"\"\"\n",
    "    np.random.seed(seed)\n",
    "    \n",
    "    # Create grades\n",
    "    grades = generate_grade_averages(num_students, num_subjects=20, round_to=2, seed=seed)\n",
    "    grades = np.random.permutation(grades)\n",
    "    assert len(grades) == num_students\n",
    "    \n",
    "    # Create priorities\n",
    "    max_penalty = 5\n",
    "    priorities = np.zeros((num_students, num_schools), dtype=np.int) + max_penalty\n",
    "    prios = np.array([0, 1, 2] + [9] * (num_schools - 3))\n",
    "    \n",
    "    # Probabilities that schools are good\n",
    "    p = np.arange(num_schools) + 1\n",
    "    p = p / np.sum(p)\n",
    "    \n",
    "    for i in range(num_students):\n",
    "        available_schools = np.arange(num_schools)\n",
    "        \n",
    "        chosen = np.log(np.random.random(num_schools)) / p\n",
    "        inds = np.argsort(chosen)\n",
    "\n",
    "        priorities[i, :] = prios[inds]\n",
    "        \n",
    "    return grades, priorities"
   ]
  },
  {
   "cell_type": "code",
   "execution_count": 23,
   "metadata": {},
   "outputs": [],
   "source": [
    "def random_initial_solution(num_schools, num_students, seed):\n",
    "    np.random.seed(seed)\n",
    "    random.seed(seed)\n",
    "\n",
    "    # Setup simulated annealing\n",
    "    x = np.zeros((num_students, num_schools), dtype=np.int)\n",
    "\n",
    "    students_per_school = num_students // num_schools\n",
    "    assert students_per_school * num_schools == num_students\n",
    "\n",
    "    # Allocate randomly\n",
    "    chosen = set()\n",
    "    for j in range(num_schools):\n",
    "        remaining = set(range(num_students)) - chosen\n",
    "        students = np.random.choice(list(remaining), size=students_per_school, replace=False)\n",
    "        x[students, j] = 1\n",
    "        chosen.update(set(students))\n",
    "\n",
    "    assert np.all(np.sum(x, axis=0) == students_per_school)\n",
    "    assert np.all(np.sum(x, axis=1) == 1)\n",
    "    \n",
    "    return x"
   ]
  },
  {
   "cell_type": "code",
   "execution_count": 24,
   "metadata": {},
   "outputs": [],
   "source": [
    "def min_cost_flow_solution(num_schools, num_students, priorities):\n",
    "    \"\"\"Solve using min cost flow\"\"\"\n",
    "    \n",
    "    school_capacities = np.ones(num_schools) * (num_students//num_schools)\n",
    "    solved = solve_problem(num_schools, num_students, priorities, school_capacities, p=1)\n",
    "    distances_solution, chosen_schools, solve_time = solved\n",
    "    x_mcf = np.zeros((num_students, num_schools), dtype=np.int)\n",
    "    x_mcf[np.arange(num_students), chosen_schools] = 1\n",
    "\n",
    "    return x_mcf"
   ]
  },
  {
   "cell_type": "code",
   "execution_count": 25,
   "metadata": {},
   "outputs": [
    {
     "name": "stdout",
     "output_type": "stream",
     "text": [
      "random\n"
     ]
    }
   ],
   "source": [
    "if True:\n",
    "    grades, priorities = create_random_problem(num_schools, num_students, seed=2)\n",
    "    PROBLEM_TYPE = \"random\"\n",
    "else:\n",
    "    grades, priorities = create_structured_problem(num_schools, num_students, seed=2)\n",
    "    PROBLEM_TYPE = \"structured\"\n",
    "    \n",
    "print(PROBLEM_TYPE)"
   ]
  },
  {
   "cell_type": "code",
   "execution_count": 26,
   "metadata": {},
   "outputs": [
    {
     "name": "stdout",
     "output_type": "stream",
     "text": [
      "2.5\n",
      "4500\n"
     ]
    }
   ],
   "source": [
    "upper_bound_grades = np.std([6 for i in range(num_schools//2)] + [1 for i in range(num_schools//2)])\n",
    "print(upper_bound_grades)\n",
    "\n",
    "upper_bound_priorities = 9 * num_students\n",
    "print(upper_bound_priorities)"
   ]
  },
  {
   "cell_type": "code",
   "execution_count": 27,
   "metadata": {},
   "outputs": [],
   "source": [
    "def random_lottery_solution(num_schools, num_students, priorities, seed):\n",
    "    np.random.seed(seed)\n",
    "    random.seed(seed)\n",
    "    \n",
    "    lottery_numbers = np.random.rand(num_students)\n",
    "    student_order = np.arange(num_students)[np.argsort(lottery_numbers)]\n",
    "\n",
    "    students_per_school = num_students // num_schools\n",
    "    assert students_per_school * num_schools == num_students\n",
    "\n",
    "\n",
    "    x = np.zeros((num_students, num_schools), dtype=np.int)\n",
    "\n",
    "    for i in student_order:\n",
    "        student_priorities = priorities[i, :]\n",
    "        for priority, j in sorted(((p,j) for (j, p) in enumerate(student_priorities))):\n",
    "            if x[:, j].sum() < students_per_school:\n",
    "                x[i, j] = 1\n",
    "                break\n",
    "\n",
    "    assert np.all(np.sum(x, axis=0) == students_per_school)\n",
    "    assert np.all(np.sum(x, axis=1) == 1)\n",
    "    return x"
   ]
  },
  {
   "cell_type": "code",
   "execution_count": 28,
   "metadata": {},
   "outputs": [],
   "source": [
    "def grades_first_solution(num_schools, num_students, priorities, grades, seed):\n",
    "    np.random.seed(seed)\n",
    "    random.seed(seed)\n",
    "    \n",
    "    tie_breaker = np.random.rand(num_students) / 10**6\n",
    "    student_order = np.arange(num_students)[np.argsort(-grades + tie_breaker)]\n",
    "\n",
    "    students_per_school = num_students // num_schools\n",
    "    assert students_per_school * num_schools == num_students\n",
    "\n",
    "    x = np.zeros((num_students, num_schools), dtype=np.int)\n",
    "\n",
    "    for i in student_order:\n",
    "        student_priorities = priorities[i, :]\n",
    "        #print(i, student_priorities)\n",
    "        for priority, j in sorted(((p,j) for (j, p) in enumerate(student_priorities))):\n",
    "            #print(priority, j)\n",
    "            if x[:, j].sum() < students_per_school:\n",
    "                x[i, j] = 1\n",
    "                #print(f\"Placed student {i} at school {j}\")\n",
    "                #print(f\"Priority {priorities[i, j]}. Places filled: {x[:, j].sum()}\")\n",
    "                break\n",
    "\n",
    "    assert np.all(np.sum(x, axis=0) == students_per_school)\n",
    "    assert np.all(np.sum(x, axis=1) == 1)\n",
    "    return x"
   ]
  },
  {
   "cell_type": "code",
   "execution_count": 29,
   "metadata": {},
   "outputs": [],
   "source": [
    "def evaluate(x, grades, priorities):\n",
    "    num_students, num_schools = x.shape\n",
    "    students_per_school = num_students // num_schools\n",
    "    \n",
    "    cost_priorities = np.sum(x * priorities) / num_students\n",
    "    \n",
    "    mean_grades = [grades[np.arange(num_students)[x[:, i] == 1]].mean() for i in range(num_schools)]\n",
    "    cost_grades = np.std(mean_grades, ddof=0)\n",
    "    return cost_priorities, cost_grades"
   ]
  },
  {
   "cell_type": "code",
   "execution_count": 30,
   "metadata": {},
   "outputs": [
    {
     "data": {
      "text/plain": [
       "344.23639026155564"
      ]
     },
     "execution_count": 30,
     "metadata": {},
     "output_type": "execute_result"
    }
   ],
   "source": [
    "num_solutions(num_schools, num_students)"
   ]
  },
  {
   "cell_type": "code",
   "execution_count": 31,
   "metadata": {},
   "outputs": [
    {
     "data": {
      "text/plain": [
       "(0.984, 0.049044037354198294)"
      ]
     },
     "execution_count": 31,
     "metadata": {},
     "output_type": "execute_result"
    }
   ],
   "source": [
    "x_lottery = random_lottery_solution(num_schools, num_students, priorities, seed=1)\n",
    "evaluate(x_lottery, grades, priorities)"
   ]
  },
  {
   "cell_type": "code",
   "execution_count": 32,
   "metadata": {},
   "outputs": [
    {
     "data": {
      "text/plain": [
       "(4.528, 0.09568695626886646)"
      ]
     },
     "execution_count": 32,
     "metadata": {},
     "output_type": "execute_result"
    }
   ],
   "source": [
    "x_random = random_initial_solution(num_schools, num_students, seed=1)\n",
    "evaluate(x_random, grades, priorities)"
   ]
  },
  {
   "cell_type": "markdown",
   "metadata": {},
   "source": [
    "### Simulated annealing functions"
   ]
  },
  {
   "cell_type": "code",
   "execution_count": 33,
   "metadata": {},
   "outputs": [],
   "source": [
    "def get_school_inds(x):\n",
    "    num_students, num_schools = x.shape\n",
    "    return np.random.choice(list(range(num_schools)), size=2, replace=False)\n",
    "\n",
    "def get_student_inds(x, j1, j2, student_inds):\n",
    "    num_students, num_schools = x.shape\n",
    "    \n",
    "    students_in_j1 = student_inds[x[:, j1] == 1]\n",
    "    students_in_j2 = student_inds[x[:, j2] == 1]\n",
    "\n",
    "    i1, = np.random.choice(students_in_j1, size=1, replace=True)\n",
    "    i2, = np.random.choice(students_in_j2, size=1, replace=True)\n",
    "    return i1, i2\n",
    "\n",
    "def domination(solution, best_solution, mask):\n",
    "    if not any(mask):\n",
    "        return True\n",
    "    \n",
    "    solution = [s for (s, m) in zip(solution, mask) if m]\n",
    "    best_solution = [s for (s, m) in zip(best_solution, mask) if m]\n",
    "\n",
    "    not_worse = all(s <= b for (s, b) in zip(solution, best_solution))\n",
    "    one_better = any(s < b for (s, b) in zip(solution, best_solution))\n",
    "    return not_worse and one_better\n",
    "\n",
    "def add_to_frontier(frontier, solution, solution_objective):\n",
    "    \"\"\"Add solution to frontier.\"\"\"\n",
    "    mask = [True] * len(solution_objective)\n",
    "    \n",
    "    dominated = [False for f in frontier]\n",
    "    add_solution = True\n",
    "    for i, (f_solution, f_objective) in enumerate(frontier):\n",
    "        \n",
    "        # If the solution under proposal dominates any existing, mark for removal\n",
    "        if domination(solution_objective, f_objective, mask):\n",
    "            dominated[i] = True\n",
    "            \n",
    "        # If the any existing solution dominates the one under proposal\n",
    "        if domination(f_objective, solution_objective, mask):\n",
    "            return frontier\n",
    "        \n",
    "    frontier = [f for (f, d) in zip(frontier, dominated) if not d]\n",
    "    frontier.append((solution, solution_objective))\n",
    "    return frontier\n",
    "            \n",
    "frontier = [(2, (2, 1))]\n",
    "assert add_to_frontier(frontier, 3, (2, 0)) == [(3, (2, 0))]\n",
    "assert add_to_frontier(frontier, 3, (2, 3)) == [(2, (2, 1))]\n",
    "assert add_to_frontier(frontier, 3, (4, 0)) == [(2, (2, 1)), (3, (4, 0))]"
   ]
  },
  {
   "cell_type": "code",
   "execution_count": 34,
   "metadata": {},
   "outputs": [],
   "source": [
    "def generate_itermediate(iterable):\n",
    "    \"\"\"Utility for step plotting.\"\"\"\n",
    "    iterable = sorted(iterable)\n",
    "    for a, b in zip(iterable, iterable[1:]):\n",
    "        yield a\n",
    "        x1, y1 = a\n",
    "        x2, y2 = b\n",
    "        yield x2, y1\n",
    "    yield b"
   ]
  },
  {
   "cell_type": "code",
   "execution_count": 35,
   "metadata": {},
   "outputs": [],
   "source": [
    "x = random_initial_solution(num_schools, num_students, seed=0)"
   ]
  },
  {
   "cell_type": "code",
   "execution_count": null,
   "metadata": {},
   "outputs": [
    {
     "data": {
      "image/png": "[encoded data removed]",
      "text/plain": [
       "<Figure size 432x216 with 1 Axes>"
      ]
     },
     "metadata": {
      "needs_background": "light"
     },
     "output_type": "display_data"
    },
    {
     "name": "stdout",
     "output_type": "stream",
     "text": [
      "Frontier iteration 1\n",
      "There are 1 solutions in the frontier\n",
      "1 "
     ]
    },
    {
     "data": {
      "image/png": "[encoded data removed]",
      "text/plain": [
       "<Figure size 622.08x194.4 with 2 Axes>"
      ]
     },
     "metadata": {
      "needs_background": "light"
     },
     "output_type": "display_data"
    },
    {
     "name": "stdout",
     "output_type": "stream",
     "text": [
      "END; There are 45 solutions in the frontier\n"
     ]
    },
    {
     "data": {
      "image/png": "[encoded data removed]",
      "text/plain": [
       "<Figure size 432x216 with 1 Axes>"
      ]
     },
     "metadata": {
      "needs_background": "light"
     },
     "output_type": "display_data"
    },
    {
     "name": "stdout",
     "output_type": "stream",
     "text": [
      "Frontier iteration 2\n",
      "There are 45 solutions in the frontier\n",
      "1 2 3 4 5 6 7 8 9 10 11 12 13 14 15 16 17 18 19 20 21 22 23 24 25 26 27 28 29 30 31 32 33 34 35 36 37 38 "
     ]
    }
   ],
   "source": [
    "%%time\n",
    "\n",
    "# Iinitial solution for the frontier\n",
    "if PROBLEM_TYPE == \"random\":\n",
    "    x = min_cost_flow_solution(num_schools, num_students, priorities)\n",
    "else:\n",
    "    x = random_initial_solution(num_schools, num_students, seed=0)\n",
    "frontier = [(x.copy(), evaluate(x, grades, priorities))]\n",
    "\n",
    "student_inds = np.arange(num_students)\n",
    "masks = [[True, True], \n",
    "         [True, False], \n",
    "         [False, True]]\n",
    "\n",
    "iterations = list(range(1000))\n",
    "def temperature(iteration, start_value=1):\n",
    "    return start_value*0.99**iteration\n",
    "\n",
    "# =============================================================================\n",
    "plt.figure(figsize=(FIGSIZE[0], FIGSIZE[1]))\n",
    "tempz = list(temperature(i) for i in iterations)\n",
    "plt.semilogx(iterations, tempz, label=\"Temperatures\")\n",
    "plt.grid(True, ls=\"--\", zorder=5, alpha=0.8)\n",
    "plt.xlabel(r\"Iterasjoner\")\n",
    "plt.ylabel(r\"Temperatur\")\n",
    "plt.tight_layout()\n",
    "plt.show()\n",
    "\n",
    "np.random.seed(123)\n",
    "random.seed(123)\n",
    "\n",
    "frontiers_per_iteration = []\n",
    "\n",
    "for iteration_frontier in range(1, 34 + 1):\n",
    "    print(f\"Frontier iteration {iteration_frontier}\")\n",
    "    print(f\"There are {len(frontier)} solutions in the frontier\")\n",
    "    \n",
    "    paths = []\n",
    "\n",
    "    # For every solution in the frontier\n",
    "    for k, (x_frontier, objective_values) in enumerate(frontier):\n",
    "        print(f\"{k+1}\", end=\" \")\n",
    "\n",
    "        # For every search diration\n",
    "        for seed, mask in enumerate(masks):\n",
    "            x = x_frontier.copy()\n",
    "            best_cost_priorities, best_cost_grades = objective_values\n",
    "            if iteration_frontier == 1:\n",
    "                path = [(x, objective_values)]\n",
    "            else:\n",
    "                path = []\n",
    "            for iteration in iterations:\n",
    "                \n",
    "                #np.random.seed(hash(str(iteration_frontier) + str(k) + str(seed)) % 10000)\n",
    "                j1, j2 = get_school_inds(x)\n",
    "                i1, i2 = get_student_inds(x, j1, j2, student_inds)\n",
    "\n",
    "                # Swap\n",
    "                x[i1, j1], x[i1, j2] = x[i1, j2], x[i1, j1]\n",
    "                x[i2, j1], x[i2, j2] = x[i2, j2], x[i2, j1]\n",
    "                cost_priorities, cost_grades = evaluate(x, grades, priorities) \n",
    "\n",
    "                dominates = domination((cost_priorities, cost_grades), \n",
    "                                       (best_cost_priorities, best_cost_grades),\n",
    "                                        mask=mask)\n",
    "\n",
    "                temp = temperature(iteration, start_value=1/iteration_frontier)\n",
    "                if dominates or (random.random() < temp):\n",
    "                    best_cost_priorities = cost_priorities\n",
    "                    best_cost_grades = cost_grades\n",
    "                    path.append((x.copy(), (best_cost_priorities, best_cost_grades)))\n",
    "                else:\n",
    "                    # Swap back\n",
    "                    x[i1, j1], x[i1, j2] = x[i1, j2], x[i1, j1]\n",
    "                    x[i2, j1], x[i2, j2] = x[i2, j2], x[i2, j1]\n",
    "                    assert np.all(np.sum(x, axis=0) == students_per_school)\n",
    "                    \n",
    "            paths.append(path)\n",
    "            \n",
    "        # Create an educational plot\n",
    "        if iteration_frontier == 1:\n",
    "            \n",
    "            # Add to frontier\n",
    "            for path in paths:\n",
    "                for x, objective in path:\n",
    "                    frontier = add_to_frontier(frontier, x, objective)\n",
    "            \n",
    "            frontier_points = sorted([o for (s, o) in frontier])\n",
    "\n",
    "            non_frontier = []\n",
    "            for path in paths:\n",
    "                for x, objective in path:\n",
    "                    if objective not in frontier_points:\n",
    "                        non_frontier.append(objective)\n",
    "            \n",
    "            plt.figure(figsize=(FIGSIZE[0]*1.6*0.9, FIGSIZE[1]*0.9))\n",
    "            # =============================================================================\n",
    "            plt.subplot(1, 2, 1)\n",
    "            plt.title(f\"Søkeretninger\")\n",
    "            labels = [\"Segregering og prioriteter\", \n",
    "                      \"Prioriteter\", \n",
    "                      \"Segregering\"]\n",
    "\n",
    "            for i, (path, mask) in enumerate(zip(paths, masks)):\n",
    "    \n",
    "                plt.plot([i for (_, (i, j)) in path], [j for (_, (i, j)) in path], \n",
    "                         color=COLORS[i], label=labels[i], alpha=0.8, zorder=9)\n",
    "                #plt.scatter([i for (_, (i, j)) in path[:1]], [j for (_, (i, j)) in path[:1]], \n",
    "                #            color=COLORS[i], zorder=9, edgecolor=\"k\")\n",
    "                plt.scatter([i for (_, (i, j)) in path[-1:]], [j for (_, (i, j)) in path[-1:]], \n",
    "                            color=COLORS[i], zorder=99, edgecolor=\"k\", s=20)\n",
    "\n",
    "            plt.legend(loc=\"best\", edgecolor=\"k\").set_zorder(99)\n",
    "            plt.grid(True, ls=\"--\", zorder=5, alpha=0.8)\n",
    "            plt.xlabel(\"Kostnad av prioriteter (snitt per elev)\")\n",
    "            plt.ylabel(\"Segregering\")\n",
    "\n",
    "            # =============================================================================\n",
    "            plt.subplot(1, 2, 2)\n",
    "            plt.title(f\"Løsninger funnet i søket\")\n",
    "            \n",
    "            frontier_steps = list(generate_itermediate(frontier_points))\n",
    "            plt.plot([i for (i, j) in frontier_steps], \n",
    "                     [j for (i, j) in frontier_steps], \"--\", alpha=0.8,\n",
    "                     zorder=99)\n",
    "            \n",
    "            plt.scatter([i for (i, j) in frontier_points], \n",
    "                     [j for (i, j) in frontier_points], alpha=1, label=\"Ikke-dominerte løsninger\",\n",
    "                       zorder=99, s=20)\n",
    "\n",
    "            plt.scatter([i for (i, j) in non_frontier], \n",
    "                        [j for (i, j) in non_frontier], alpha=0.2, color=\"k\", s=10,\n",
    "                       label=\"Dominerte løsninger\", zorder=9) \n",
    "\n",
    "            plt.xlabel(\"Kostnad av prioriteter (snitt per elev)\")\n",
    "            plt.yticks(fontsize=0)\n",
    "            plt.legend(loc=\"best\", edgecolor=\"k\").set_zorder(99)\n",
    "            plt.grid(True, ls=\"--\", zorder=5, alpha=0.8)\n",
    "            \n",
    "            plt.tight_layout()\n",
    "            #plt.savefig(os.path.join(save_dir, f\"annealing_directions_{PROBLEM_TYPE}_{num_schools}.png\"), dpi=300)\n",
    "            plt.show()\n",
    "            \n",
    "    # Add to frontier\n",
    "    for path in paths:\n",
    "        for x, objective in path:\n",
    "            frontier = add_to_frontier(frontier, x, objective)\n",
    "            \n",
    "    print(f\"END; There are {len(frontier)} solutions in the frontier\")\n",
    "    frontiers_per_iteration.append([j for (i, j) in frontier])\n",
    "        \n",
    "\n",
    "    # =================== CONVENIENCE PLOT ==================\n",
    "    frontier_points = sorted([o for (s, o) in frontier])\n",
    "\n",
    "    non_frontier = []\n",
    "    for path in paths:\n",
    "        for x, objective in path:\n",
    "            if objective not in frontier_points:\n",
    "                non_frontier.append(objective)\n",
    "\n",
    "    plt.figure(figsize=(FIGSIZE[0]*1.0, FIGSIZE[1]))\n",
    "    plt.title(f\"Ikke-dominert front i iterasjon {iteration_frontier}\")\n",
    "\n",
    "    solutions_step = list(generate_itermediate(frontier_points))\n",
    "    plt.plot([i for (i, j) in solutions_step], [j for (i, j) in solutions_step], \"--\",\n",
    "              alpha=0.8, zorder=20)\n",
    "    \n",
    "    #plt.plot([i for (i, j) in frontier_points], [j for (i, j) in frontier_points], alpha=0.8)\n",
    "    plt.scatter([i for (i, j) in frontier_points], [j for (i, j) in frontier_points], \n",
    "                alpha=1, zorder=20, label=\"Ikke-dominerte løsninger\")\n",
    "    plt.scatter([i for (i, j) in non_frontier], [j for (i, j) in non_frontier], \n",
    "                alpha=0.2, color=\"k\", s=15, zorder=10, label=\"Dominerte løsninger\")\n",
    "    plt.xlabel(\"Kostnad av prioriteter (snitt per elev)\")\n",
    "    plt.ylabel(\"Segregering\")\n",
    "    plt.legend(loc=\"best\", edgecolor=\"k\").set_zorder(99)\n",
    "    plt.grid(True, ls=\"--\", zorder=5, alpha=0.8)\n",
    "    plt.tight_layout()\n",
    "    if iteration_frontier in [i**2 for i in range(10)]:\n",
    "        pass\n",
    "        #plt.savefig(os.path.join(save_dir, f\"annealing_efficient_{PROBLEM_TYPE}_{num_schools}_iter_{iteration_frontier}.png\"), dpi=300)\n",
    "    plt.show()"
   ]
  },
  {
   "cell_type": "code",
   "execution_count": null,
   "metadata": {},
   "outputs": [],
   "source": [
    "plt.figure(figsize=(FIGSIZE[0]*1.15, FIGSIZE[1]))\n",
    "plt.title(f\"Ikke-dominerte løsninger som funksjon av iterasjoner i PSMSS\")\n",
    "for i, solutions in enumerate(frontiers_per_iteration):\n",
    "    if (i) in [2**i - 1 for i in range(15)]:\n",
    "        solutions = sorted(solutions)\n",
    "        solutions_step = list(generate_itermediate(solutions))\n",
    "        plt.plot([i for (i, j) in solutions_step], [j for (i, j) in solutions_step], \"--\",\n",
    "                  alpha=0.75, zorder=10+i)\n",
    "        plt.scatter([i for (i, j) in solutions], [j for (i, j) in solutions],\n",
    "                    label=f\"Iterasjon {i+1}\", alpha=0.75, zorder=10+i, s=15)\n",
    "plt.xlabel(\"Kostnad av prioriteter (snitt per elev)\")\n",
    "plt.ylabel(\"Segregering\")\n",
    "plt.legend(loc=\"upper right\", edgecolor=\"k\")\n",
    "plt.grid(True, ls=\"--\", zorder=5, alpha=0.8)\n",
    "plt.tight_layout()\n",
    "plt.savefig(os.path.join(save_dir, f\"non_dom_set_{PROBLEM_TYPE}_{num_schools}.png\"), dpi=300)\n",
    "plt.show()"
   ]
  },
  {
   "cell_type": "code",
   "execution_count": null,
   "metadata": {},
   "outputs": [],
   "source": [
    "frontier_points = sorted([o for (s, o) in frontier])\n",
    "\n",
    "if PROBLEM_TYPE != \"random\":\n",
    "    plt.figure(figsize=(FIGSIZE[0]*1.0 * 0.9, FIGSIZE[1]* 0.9))\n",
    "    plt.title(f\"Løsninger på et problem med kjent løsning\")\n",
    "\n",
    "    solutions_step = list(generate_itermediate(frontier_points))\n",
    "    plt.plot([i for (i, j) in solutions_step], [j for (i, j) in solutions_step], \"--\",\n",
    "             alpha=0.8, zorder=9)\n",
    "    plt.scatter([i for (i, j) in frontier_points], [j for (i, j) in frontier_points], \n",
    "                alpha=1, zorder=9, label=f\"Stokastisk optimering\") \n",
    "\n",
    "    plt.scatter([0], [0], color=COLORS[1], label=\"Beste løsning\", zorder=9)\n",
    "    \n",
    "    alpha = 0.5\n",
    "    s = 15\n",
    "    for i in range(100):\n",
    "        x_random = random_initial_solution(num_schools, num_students, seed=i)\n",
    "        x_1, x_2 = evaluate(x_random, grades, priorities)\n",
    "        if i == 1:\n",
    "            plt.scatter([x_1], [x_2], color=COLORS[2], label=\"Tilfeldige løsninger\", zorder=9, alpha=alpha, s=s)\n",
    "        else:\n",
    "            plt.scatter([x_1], [x_2], color=COLORS[2], zorder=9, alpha=alpha, s=s)\n",
    "\n",
    "    plt.xlabel(\"Kostnad av prioriteter (snitt per elev)\")\n",
    "    plt.ylabel(\"Segregering\")\n",
    "    plt.legend(loc=\"best\", edgecolor=\"k\")\n",
    "    plt.grid(True, ls=\"--\", zorder=5, alpha=0.8)\n",
    "    plt.tight_layout()\n",
    "    plt.savefig(os.path.join(save_dir, f\"comparison_{PROBLEM_TYPE}_{num_schools}.png\"), dpi=300)\n",
    "    plt.show()"
   ]
  },
  {
   "cell_type": "code",
   "execution_count": null,
   "metadata": {},
   "outputs": [],
   "source": [
    "frontier_points = sorted([o for (s, o) in frontier])\n",
    "\n",
    "if PROBLEM_TYPE == \"random\":\n",
    "    plt.figure(figsize=(FIGSIZE[0]*1.0 * 0.9, FIGSIZE[1]* 0.9))\n",
    "    plt.title(f\"Sammenligning av løsninger ({num_students} elever, {num_schools} skoler)\")\n",
    "    \n",
    "    alpha = 0.4\n",
    "    s = 10\n",
    "    num_sols = 1000\n",
    "\n",
    "    solutions_step = list(generate_itermediate(frontier_points))\n",
    "    #plt.plot([i for (i, j) in solutions_step], [j for (i, j) in solutions_step], \"--\",\n",
    "    #         alpha=0.8, zorder=9)\n",
    "    plt.scatter([i for (i, j) in frontier_points], [j for (i, j) in frontier_points], \n",
    "                alpha=1, zorder=9, label=r\"PSMSS ($\\alpha = 0$)\", s=s) \n",
    "\n",
    "    \n",
    "    for i in range(num_sols):\n",
    "        x_lottery = random_lottery_solution(num_schools, num_students, priorities, seed=i)\n",
    "        x_1, x_2 = evaluate(x_lottery, grades, priorities)\n",
    "        if i == 1:\n",
    "            plt.scatter([x_1], [x_2], color=COLORS[1], label=\"Loddtrekninger\", zorder=9, alpha=alpha, s=s)\n",
    "        else:\n",
    "            plt.scatter([x_1], [x_2], color=COLORS[1], zorder=9, alpha=alpha, s=s)\n",
    "\n",
    "    for i in range(num_sols):\n",
    "        x_random = random_initial_solution(num_schools, num_students, seed=i)\n",
    "        x_1, x_2 = evaluate(x_random, grades, priorities)\n",
    "        if i == 1:\n",
    "            plt.scatter([x_1], [x_2], color=COLORS[2], label=\"Tilfeldige fordelinger\", zorder=9, alpha=alpha, s=s)\n",
    "        else:\n",
    "            plt.scatter([x_1], [x_2], color=COLORS[2], zorder=9, alpha=alpha, s=s)\n",
    "            \n",
    "\n",
    "    x_grades = grades_first_solution(num_schools, num_students, priorities, grades, seed=0)\n",
    "    x_1, x_2 = evaluate(x_grades, grades, priorities)\n",
    "    plt.scatter([x_1], [x_2], color=COLORS[3], label=\"Karakterbasert modell\", zorder=9, alpha=1, s=s)\n",
    " \n",
    "\n",
    "    plt.xlabel(\"Kostnad av prioriteter (snitt per elev)\")\n",
    "    plt.ylabel(\"Segregering\")\n",
    "    plt.legend(loc=\"best\", edgecolor=\"k\")\n",
    "    plt.grid(True, ls=\"--\", zorder=5, alpha=0.8)\n",
    "    plt.tight_layout()\n",
    "    #plt.savefig(os.path.join(save_dir, f\"comparison_{PROBLEM_TYPE}_{num_schools}.png\"), dpi=300)\n",
    "    plt.show()"
   ]
  },
  {
   "cell_type": "code",
   "execution_count": null,
   "metadata": {},
   "outputs": [],
   "source": [
    "frontier_points = sorted([o for (s, o) in frontier])\n",
    "\n",
    "if PROBLEM_TYPE == \"random\":\n",
    "    plt.figure(figsize=(FIGSIZE[0]*1.0 * 0.9, FIGSIZE[1]* 0.9))\n",
    "    plt.title(f\"Sammenligning av løsninger ({num_students} elever, {num_schools} skoler)\")\n",
    "    \n",
    "    alpha = 0.6\n",
    "    s = 10\n",
    "    num_sols = 1000\n",
    "\n",
    "    solutions_step = list(generate_itermediate(frontier_points))\n",
    "    plt.plot([i for (i, j) in solutions_step], [j for (i, j) in solutions_step], \"--\",\n",
    "             alpha=0.8, zorder=9)\n",
    "    plt.scatter([i for (i, j) in frontier_points], [j for (i, j) in frontier_points], \n",
    "                alpha=1, zorder=9, label=r\"PSMSS ($\\alpha = 0$)\", s=s*2) \n",
    "\n",
    "    \n",
    "    for i in range(num_sols):\n",
    "        x_lottery = random_lottery_solution(num_schools, num_students, priorities, seed=i)\n",
    "        x_1, x_2 = evaluate(x_lottery, grades, priorities)\n",
    "        if x_2 > 0.15 and x_1 > 1:\n",
    "            x_lottery_final = x_lottery.copy()\n",
    "        if i == 0:\n",
    "            plt.scatter([x_1], [x_2], color=COLORS[1], label=\"Loddtrekninger\", zorder=15, alpha=alpha, s=s)\n",
    "        else:\n",
    "            plt.scatter([x_1], [x_2], color=COLORS[1], zorder=15, alpha=alpha, s=s)\n",
    "            \n",
    "\n",
    "    plt.xlabel(\"Kostnad av prioriteter (snitt per elev)\")\n",
    "    plt.ylabel(\"Segregering\")\n",
    "    plt.legend(loc=\"best\", edgecolor=\"k\").set_zorder(99)\n",
    "    plt.grid(True, ls=\"--\", zorder=5, alpha=0.8)\n",
    "    plt.tight_layout()\n",
    "    plt.savefig(os.path.join(save_dir, f\"comparison_zoomed_{PROBLEM_TYPE}_{num_schools}.png\"), dpi=300)\n",
    "    plt.show()"
   ]
  },
  {
   "cell_type": "code",
   "execution_count": null,
   "metadata": {},
   "outputs": [],
   "source": [
    "for (x_on_frontier, objectives) in sorted(frontier, key=lambda t:t[1]):\n",
    "    x_1, x_2 = objectives\n",
    "    if x_2 < 0.01:\n",
    "        break"
   ]
  },
  {
   "cell_type": "code",
   "execution_count": null,
   "metadata": {},
   "outputs": [],
   "source": [
    "plt.figure(figsize=(FIGSIZE[0]*1.7 * 0.9, FIGSIZE[1]* 0.9))\n",
    "\n",
    "########################################################################\n",
    "plt.subplot(1, 2, 1)\n",
    "plt.title(f\"Prioriteter innfridd, med snittkarakter per gruppe\")\n",
    "\n",
    "x_plt = np.arange(4)\n",
    "\n",
    "labels = [r\"PSMSS ($\\alpha = 0$)\", \"Loddtrekning\", \"Karakterbasert modell\"]\n",
    "colors = [COLORS[0], COLORS[1], COLORS[3]]\n",
    "\n",
    "for i, x_sol in enumerate([x_on_frontier, x_lottery_final, x_grades]):\n",
    "    grade_distr = pd.Series(priorities[x_sol == 1]).value_counts()\n",
    "    plt.bar(x_plt[:len(grade_distr)]-0.3+0.3*i, grade_distr.values, \n",
    "        zorder=10, width=0.3, label=labels[i], edgecolor=\"k\", color=colors[i])\n",
    "    for x, y_plt in enumerate(grade_distr.values):\n",
    "        mask = np.any((priorities == grade_distr.index[x]) & (x_sol == 1), axis=1)\n",
    "        mean_in_prio = grades[np.arange(num_students)[mask]].mean()\n",
    "        plt.text(x=x-0.3+0.3*i - 0.125, y=y_plt+10, s=round(mean_in_prio, 1))\n",
    "\n",
    "plt.xticks(x_plt, [\"Førstevalg\", \"Andrevalg\", \"Tredjevalg\", \"Ingen valg\"])\n",
    "plt.ylabel(\"Antall elever\")\n",
    "plt.ylim([0, plt.ylim()[1] + 30])\n",
    "plt.legend(loc=\"best\", edgecolor=\"k\").set_zorder(99)\n",
    "plt.grid(True, ls=\"--\", zorder=5, alpha=0.8)\n",
    "\n",
    "########################################################################\n",
    "plt.subplot(1, 2, 2)\n",
    "plt.title(f\"Snittkarakter per skole, med standardavvik\")\n",
    "\n",
    "# Get grades and plot them\n",
    "grades_plt = [grades[np.arange(num_students)[x_on_frontier[:, i] == 1]] for i in range(num_schools)]\n",
    "x_plt = np.arange(len(grades_plt))\n",
    "plt.bar(x_plt-0.25, [m.mean() for m in grades_plt], \n",
    "        yerr=np.array([[m.std(), m.std()] for m in grades_plt]).T,\n",
    "        zorder=10, width=0.25, edgecolor=\"k\", color=COLORS[0])\n",
    "\n",
    "grades_plt = [grades[np.arange(num_students)[x_lottery_final[:, i] == 1]] for i in range(num_schools)]\n",
    "x_plt = np.arange(len(grades_plt))\n",
    "plt.bar(x_plt, [m.mean() for m in grades_plt], \n",
    "        yerr=np.array([[m.std(), m.std()] for m in grades_plt]).T,\n",
    "        zorder=10, width=0.25, edgecolor=\"k\", color=COLORS[1])\n",
    "\n",
    "grades_plt = [grades[np.arange(num_students)[x_grades[:, i] == 1]] for i in range(num_schools)]\n",
    "x_plt = np.arange(len(grades_plt))\n",
    "plt.bar(x_plt+0.25, [m.mean() for m in grades_plt], \n",
    "        yerr=np.array([[m.std(), m.std()] for m in grades_plt]).T,\n",
    "        zorder=10, width=0.25, edgecolor=\"k\", color=COLORS[3])\n",
    "\n",
    "plt.xticks(x_plt, [f\"Skole {i+1}\" for i in x_plt])\n",
    "plt.ylabel(\"Karakter\")\n",
    "plt.ylim([1, 6])\n",
    "plt.grid(True, ls=\"--\", zorder=5, alpha=0.8)\n",
    "\n",
    "plt.tight_layout()\n",
    "plt.savefig(os.path.join(save_dir, f\"comparison_detailed_{PROBLEM_TYPE}_{num_schools}.png\"), dpi=300)\n",
    "plt.show()"
   ]
  }
 ],
 "metadata": {
  "kernelspec": {
   "display_name": "Python 3",
   "language": "python",
   "name": "python3"
  },
  "language_info": {
   "codemirror_mode": {
    "name": "ipython",
    "version": 3
   },
   "file_extension": ".py",
   "mimetype": "text/x-python",
   "name": "python",
   "nbconvert_exporter": "python",
   "pygments_lexer": "ipython3",
   "version": "3.7.7"
  }
 },
 "nbformat": 4,
 "nbformat_minor": 2
}
